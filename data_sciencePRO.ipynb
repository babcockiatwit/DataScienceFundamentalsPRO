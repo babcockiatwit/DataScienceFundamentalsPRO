{
 "cells": [
  {
   "cell_type": "code",
   "execution_count": 13,
   "id": "92bd0740-0232-4088-97dc-dbdcfa858056",
   "metadata": {},
   "outputs": [],
   "source": [
    "import numpy as np\n",
    "import pandas as pd\n",
    "import os\n",
    "low_popularity = pd.read_csv('Downloads\\low_popularity_spotify_data.csv')\n",
    "high_popularity=pd.read_csv('Downloads\\high_popularity_spotify_data.csv')"
   ]
  }
 ],
 "metadata": {
  "kernelspec": {
   "display_name": "Python 3 (ipykernel)",
   "language": "python",
   "name": "python3"
  },
  "language_info": {
   "codemirror_mode": {
    "name": "ipython",
    "version": 3
   },
   "file_extension": ".py",
   "mimetype": "text/x-python",
   "name": "python",
   "nbconvert_exporter": "python",
   "pygments_lexer": "ipython3",
   "version": "3.13.5"
  }
 },
 "nbformat": 4,
 "nbformat_minor": 5
}
